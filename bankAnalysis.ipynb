{
 "cells": [
  {
   "cell_type": "code",
   "execution_count": 1,
   "metadata": {},
   "outputs": [
    {
     "data": {
      "text/plain": [
       "'.'"
      ]
     },
     "execution_count": 1,
     "metadata": {},
     "output_type": "execute_result"
    }
   ],
   "source": [
    "# System setup\n",
    "import os\n",
    "import sys\n",
    "import time\n",
    "os.chdir(\"C:/Users/BIYIHA/Documents/spark edx/Spark Course/bank data\")\n",
    "os.curdir"
   ]
  },
  {
   "cell_type": "code",
   "execution_count": 2,
   "metadata": {},
   "outputs": [],
   "source": [
    "#start the SparkContext\n",
    "import findspark\n",
    "findspark.init()\n",
    "\n",
    "from pyspark import SparkContext\n",
    "from pyspark import SparkConf"
   ]
  },
  {
   "cell_type": "code",
   "execution_count": 3,
   "metadata": {},
   "outputs": [],
   "source": [
    "# setup spark local resources\n",
    "conf=SparkConf()\n",
    "conf.set(\"spark.executor.memory\", \"2g\")\n",
    "conf.set(\"spark.cores.max\", \"4\")\n",
    "\n",
    "conf.setAppName(\"thebuzz bank\")\n",
    "\n",
    "sc = SparkContext(\"local\", conf=conf)"
   ]
  },
  {
   "cell_type": "markdown",
   "metadata": {},
   "source": [
    "#### Import Dataset"
   ]
  },
  {
   "cell_type": "code",
   "execution_count": 4,
   "metadata": {},
   "outputs": [],
   "source": [
    "# read the input file into an RDD[String]\n",
    "wholeFile = sc.textFile(\"bank-full.csv\")"
   ]
  },
  {
   "cell_type": "markdown",
   "metadata": {},
   "source": [
    " #### Find Column Indexes"
   ]
  },
  {
   "cell_type": "code",
   "execution_count": 5,
   "metadata": {},
   "outputs": [],
   "source": [
    "# Finds out the index of \"name\" in the array firstLine \n",
    "# returns -1 if it cannot find it\n",
    "def findCol(firstLine, name):\n",
    "\tif name in firstLine:\n",
    "\t\treturn firstLine.index(name)\n",
    "\telse:\n",
    "\t\treturn -1"
   ]
  },
  {
   "cell_type": "code",
   "execution_count": 6,
   "metadata": {},
   "outputs": [],
   "source": [
    "# The first line of the file defines the name of each column in the cvs file\n",
    "# We store it as an array in the driver program\n",
    "firstLine = wholeFile.collect()[0].replace('\"','').split(';')"
   ]
  },
  {
   "cell_type": "markdown",
   "metadata": {},
   "source": [
    "#### Clean Dataset"
   ]
  },
  {
   "cell_type": "code",
   "execution_count": 7,
   "metadata": {},
   "outputs": [],
   "source": [
    "# filter out the first line from the initial RDD\n",
    "\n",
    "from itertools import islice\n",
    "\n",
    "entries = wholeFile.mapPartitionsWithIndex(\n",
    "    lambda idx, it: islice(it, 1, None) if idx == 0 else it \n",
    ")"
   ]
  },
  {
   "cell_type": "code",
   "execution_count": 8,
   "metadata": {},
   "outputs": [],
   "source": [
    "# split each line into an array of items (; since it seperates the colomns\n",
    "bankData = entries.map(lambda x : x.split(';'))"
   ]
  },
  {
   "cell_type": "code",
   "execution_count": 9,
   "metadata": {},
   "outputs": [
    {
     "data": {
      "text/plain": [
       "PythonRDD[2] at RDD at PythonRDD.scala:53"
      ]
     },
     "execution_count": 9,
     "metadata": {},
     "output_type": "execute_result"
    }
   ],
   "source": [
    "# keep the RDD in memory\n",
    "bankData.cache()"
   ]
  },
  {
   "cell_type": "markdown",
   "metadata": {},
   "source": [
    "### Data Analysis can start"
   ]
  },
  {
   "cell_type": "code",
   "execution_count": 10,
   "metadata": {},
   "outputs": [
    {
     "name": "stdout",
     "output_type": "stream",
     "text": [
      "number of observations =  45211\n"
     ]
    }
   ],
   "source": [
    "# Count the total number of observations included in the dataset\n",
    "print(\"number of observations = \", bankData.count())"
   ]
  },
  {
   "cell_type": "code",
   "execution_count": 11,
   "metadata": {},
   "outputs": [
    {
     "name": "stdout",
     "output_type": "stream",
     "text": [
      "job corresponds to column 1\n"
     ]
    }
   ],
   "source": [
    "# First find the index of the column corresponding to the \"age\"\n",
    "column_index=findCol(firstLine, \"job\")\n",
    "print(\"{} corresponds to column {}\".format(\"job\", column_index))"
   ]
  },
  {
   "cell_type": "code",
   "execution_count": 12,
   "metadata": {},
   "outputs": [],
   "source": [
    "# Use 'map' to create a RDD with all jobs and 'distinct' to remove duplicates\n",
    "jobs = bankData.map(lambda x: x[column_index]).distinct()"
   ]
  },
  {
   "cell_type": "code",
   "execution_count": 13,
   "metadata": {},
   "outputs": [
    {
     "data": {
      "text/plain": [
       "12"
      ]
     },
     "execution_count": 13,
     "metadata": {},
     "output_type": "execute_result"
    }
   ],
   "source": [
    "# Number of distinct jobs in the survey\n",
    "jobs.count()"
   ]
  },
  {
   "cell_type": "code",
   "execution_count": 14,
   "metadata": {},
   "outputs": [
    {
     "name": "stdout",
     "output_type": "stream",
     "text": [
      "A few examples of jobs:\n",
      "\"admin.\"\n",
      "\"blue-collar\"\n",
      "\"entrepreneur\"\n",
      "\"housemaid\"\n",
      "\"management\"\n"
     ]
    }
   ],
   "source": [
    "# Display the 5 first nationalities\n",
    "print(\"A few examples of jobs:\")\n",
    "for elem in jobs.sortBy(lambda x: x).take(5):\n",
    "\tprint(elem)"
   ]
  },
  {
   "cell_type": "markdown",
   "metadata": {},
   "source": [
    "#### How many samples are married"
   ]
  },
  {
   "cell_type": "code",
   "execution_count": 15,
   "metadata": {},
   "outputs": [
    {
     "name": "stdout",
     "output_type": "stream",
     "text": [
      "marital corresponds to column 2\n"
     ]
    }
   ],
   "source": [
    "# First find the index of the column corresponding to the \"marital\"\n",
    "col_idx_marital=findCol(firstLine, \"marital\")\n",
    "print(\"{} corresponds to column {}\".format(\"marital\", col_idx_marital))"
   ]
  },
  {
   "cell_type": "code",
   "execution_count": 16,
   "metadata": {},
   "outputs": [
    {
     "data": {
      "text/plain": [
       "['\"married\"', '\"married\"', '\"married\"']"
      ]
     },
     "execution_count": 16,
     "metadata": {},
     "output_type": "execute_result"
    }
   ],
   "source": [
    "# create RDD just for married individual\n",
    "marital = bankData.map(lambda x: x[col_idx_marital]).filter(lambda x: x =='\"married\"')\n",
    "marital.take(3)"
   ]
  },
  {
   "cell_type": "code",
   "execution_count": 17,
   "metadata": {},
   "outputs": [
    {
     "name": "stdout",
     "output_type": "stream",
     "text": [
      "number of married individuals =  27214\n"
     ]
    }
   ],
   "source": [
    "print(\"number of married individuals = \", marital.count())"
   ]
  },
  {
   "cell_type": "markdown",
   "metadata": {},
   "source": [
    "#### Make histogram of marital status"
   ]
  },
  {
   "cell_type": "code",
   "execution_count": 18,
   "metadata": {},
   "outputs": [],
   "source": [
    "# Count the marital status in RDD\n",
    "maritalStatus = bankData.map(lambda x: x[col_idx_marital]).map(lambda status: (status, 1))\n",
    "maritalStatus1 = maritalStatus.reduceByKey(lambda a,b: a+b)"
   ]
  },
  {
   "cell_type": "code",
   "execution_count": 19,
   "metadata": {},
   "outputs": [
    {
     "name": "stdout",
     "output_type": "stream",
     "text": [
      "[('\"married\"', 27214), ('\"single\"', 12790), ('\"divorced\"', 5207)]\n"
     ]
    }
   ],
   "source": [
    "maritalState = maritalStatus1.collect()\n",
    "print(maritalState)"
   ]
  },
  {
   "cell_type": "code",
   "execution_count": 21,
   "metadata": {},
   "outputs": [],
   "source": [
    "import matplotlib.pyplot as plt\n",
    "import numpy as np\n",
    "%matplotlib inline"
   ]
  },
  {
   "cell_type": "code",
   "execution_count": 20,
   "metadata": {},
   "outputs": [
    {
     "data": {
      "text/plain": [
       "<BarContainer object of 3 artists>"
      ]
     },
     "execution_count": 20,
     "metadata": {},
     "output_type": "execute_result"
    },
    {
     "data": {
      "image/png": "[encoded data removed]",
      "text/plain": [
       "<Figure size 432x288 with 1 Axes>"
      ]
     },
     "metadata": {
      "needs_background": "light"
     },
     "output_type": "display_data"
    }
   ],
   "source": [
    "maritalState1= dict(maritalState)\n",
    "plt.bar(maritalState1.keys(),maritalState1.values())\n",
    "#maritalState1= np.array(maritalState)\n",
    "#plt.bar(maritalState1[:,0], maritalState1[:,1].astype(int))"
   ]
  },
  {
   "cell_type": "markdown",
   "metadata": {},
   "source": [
    "#### Create Histogram of age in dataset"
   ]
  },
  {
   "cell_type": "code",
   "execution_count": 26,
   "metadata": {},
   "outputs": [
    {
     "name": "stdout",
     "output_type": "stream",
     "text": [
      "age corresponds to column 0\n"
     ]
    },
    {
     "data": {
      "text/plain": [
       "<BarContainer object of 77 artists>"
      ]
     },
     "execution_count": 26,
     "metadata": {},
     "output_type": "execute_result"
    },
    {
     "data": {
      "image/png": "[encoded data removed]",
      "text/plain": [
       "<Figure size 432x288 with 1 Axes>"
      ]
     },
     "metadata": {
      "needs_background": "light"
     },
     "output_type": "display_data"
    }
   ],
   "source": [
    "# First find the index of the column corresponding to the \"ages\"\n",
    "col_idx_age=findCol(firstLine, \"age\")\n",
    "print(\"{} corresponds to column {}\".format(\"age\", col_idx_age))\n",
    "\n",
    "# Count the ages status in RDD\n",
    "ages = bankData.map(lambda x: x[col_idx_age]).map(lambda a: (a, 1))\n",
    "ages1 = ages.reduceByKey(lambda a,b: a+b)\n",
    "\n",
    "# collect\n",
    "ages2 = ages1.collect()\n",
    "#print(ages2)\n",
    "\n",
    "# plot histogram\n",
    "ages3= dict(ages2)\n",
    "plt.bar(ages3.keys(), ages3.values())"
   ]
  },
  {
   "cell_type": "code",
   "execution_count": 31,
   "metadata": {},
   "outputs": [
    {
     "name": "stdout",
     "output_type": "stream",
     "text": [
      "most sample ages \n",
      "2085:\t32\n",
      "1996:\t31\n",
      "1972:\t33\n",
      "1930:\t34\n",
      "1894:\t35\n"
     ]
    }
   ],
   "source": [
    "# print the 5 most frequent age \n",
    "\n",
    "reverse_age = ages1.map(lambda x: (x[1], x[0]))\n",
    "sorted_Maxages = reverse_age.sortByKey(ascending=False)\n",
    "#take the top 5 departure places\n",
    "D = sorted_Maxages.take(5)\n",
    "print('most sample ages \\n'+'\\n'.join(['%d:\\t%s'%c for c in D]))"
   ]
  },
  {
   "cell_type": "code",
   "execution_count": 40,
   "metadata": {},
   "outputs": [
    {
     "name": "stdout",
     "output_type": "stream",
     "text": [
      "The oldest age in dataset is  95\n"
     ]
    }
   ],
   "source": [
    "# print the oldest and youngest age in dataset\n",
    "\n",
    "oldest_age = bankData.map(lambda x: x[col_idx_age]).reduce(lambda w,v: w if int(w)>int(v) else int(v))\n",
    "print('The oldest age in dataset is ', oldest_age)"
   ]
  },
  {
   "cell_type": "markdown",
   "metadata": {},
   "source": [
    "#### Create Histogram of job in dataset"
   ]
  },
  {
   "cell_type": "code",
   "execution_count": 27,
   "metadata": {},
   "outputs": [
    {
     "name": "stdout",
     "output_type": "stream",
     "text": [
      "job corresponds to column 1\n"
     ]
    },
    {
     "data": {
      "text/plain": [
       "<BarContainer object of 12 artists>"
      ]
     },
     "execution_count": 27,
     "metadata": {},
     "output_type": "execute_result"
    },
    {
     "data": {
      "image/png": "[encoded data removed]",
      "text/plain": [
       "<Figure size 432x288 with 1 Axes>"
      ]
     },
     "metadata": {
      "needs_background": "light"
     },
     "output_type": "display_data"
    }
   ],
   "source": [
    "# First find the index of the column corresponding to the \"job\"\n",
    "col_idx_job=findCol(firstLine, \"job\")\n",
    "print(\"{} corresponds to column {}\".format(\"job\", col_idx_job))\n",
    "\n",
    "# Count the ages status in RDD\n",
    "jobs = bankData.map(lambda x: x[col_idx_job]).map(lambda a: (a, 1))\n",
    "jobs1 = jobs.reduceByKey(lambda a,b: a+b)\n",
    "\n",
    "# collect\n",
    "jobs2 = jobs1.collect()\n",
    "#print(ages2)\n",
    "\n",
    "# plot histogram\n",
    "jobs3= dict(jobs2)\n",
    "plt.bar(jobs3.keys(), jobs3.values())"
   ]
  },
  {
   "cell_type": "markdown",
   "metadata": {},
   "source": [
    "#### Which job provide the most money\n",
    "- use job and balance columns in dataset"
   ]
  },
  {
   "cell_type": "code",
   "execution_count": 45,
   "metadata": {},
   "outputs": [
    {
     "data": {
      "text/plain": [
       "['\"management\"', '\"technician\"', '\"entrepreneur\"']"
      ]
     },
     "execution_count": 45,
     "metadata": {},
     "output_type": "execute_result"
    }
   ],
   "source": [
    "# Job columns\n",
    "job = bankData.map(lambda x: x[col_idx_job])\n",
    "job.take(3)"
   ]
  },
  {
   "cell_type": "code",
   "execution_count": 44,
   "metadata": {},
   "outputs": [
    {
     "name": "stdout",
     "output_type": "stream",
     "text": [
      "balance corresponds to column 5\n"
     ]
    },
    {
     "data": {
      "text/plain": [
       "['2143', '29', '2']"
      ]
     },
     "execution_count": 44,
     "metadata": {},
     "output_type": "execute_result"
    }
   ],
   "source": [
    "# balance columns\n",
    "\n",
    "# First find the index of the column corresponding to the \"balance\"\n",
    "col_idx_bal=findCol(firstLine, \"balance\")\n",
    "print(\"{} corresponds to column {}\".format(\"balance\", col_idx_bal))\n",
    "\n",
    "# Count the ages status in RDD\n",
    "balance = bankData.map(lambda x: x[col_idx_bal])\n",
    "balance.take(3)"
   ]
  },
  {
   "cell_type": "code",
   "execution_count": 47,
   "metadata": {},
   "outputs": [
    {
     "data": {
      "text/plain": [
       "[('\"management\"', '2143'), ('\"technician\"', '29'), ('\"entrepreneur\"', '2')]"
      ]
     },
     "execution_count": 47,
     "metadata": {},
     "output_type": "execute_result"
    }
   ],
   "source": [
    "# Create RDD with both job and balance\n",
    "\n",
    "# Method 1\n",
    "job_balance = bankData.map(lambda x: (x[col_idx_job], x[col_idx_bal]))\n",
    "job_balance.take(3)"
   ]
  },
  {
   "cell_type": "code",
   "execution_count": 84,
   "metadata": {},
   "outputs": [],
   "source": [
    "# Method 2\n",
    "#job_balance = job.zip(balance)\n",
    "#job_balance.take(3)"
   ]
  },
  {
   "cell_type": "code",
   "execution_count": 85,
   "metadata": {},
   "outputs": [],
   "source": [
    "# remove job =unknown\n",
    "job_balance = job_balance.filter(lambda x: x[0] != '\"unknown\"')"
   ]
  },
  {
   "cell_type": "code",
   "execution_count": 86,
   "metadata": {},
   "outputs": [],
   "source": [
    "# Most lucrative job on average \n",
    "job_rich = job_balance.map(lambda x: (x[0], float(x[1]))).groupByKey().mapValues(lambda x: sum(x) / len(x))"
   ]
  },
  {
   "cell_type": "code",
   "execution_count": 87,
   "metadata": {},
   "outputs": [
    {
     "name": "stdout",
     "output_type": "stream",
     "text": [
      "\"retired\" is the most prolific job with average yearly balance of 1984 euros\n"
     ]
    }
   ],
   "source": [
    "# reverse inorder to sort\n",
    "rev_jobRich = job_rich.map(lambda x: (x[1], x[0]))\n",
    "sorted_revJobRich = rev_jobRich.sortByKey(ascending=False)\n",
    "\n",
    "# print the most lucrative job\n",
    "print('%s is the most prolific job with average yearly balance of %d euros' % (sorted_revJobRich.first()[1], sorted_revJobRich.first()[0]))"
   ]
  },
  {
   "cell_type": "code",
   "execution_count": 88,
   "metadata": {},
   "outputs": [
    {
     "name": "stdout",
     "output_type": "stream",
     "text": [
      "Top 5 most paid job \n",
      "1984:\t\"retired\"\n",
      "1763:\t\"management\"\n",
      "1647:\t\"self-employed\"\n",
      "1521:\t\"unemployed\"\n",
      "1521:\t\"entrepreneur\"\n"
     ]
    }
   ],
   "source": [
    "#take the top 5 most paid job\n",
    "D = sorted_revJobRich.take(5)\n",
    "print('Top 5 most paid job on average \\n'+'\\n'.join(['%d:\\t%s'%c for c in D]))"
   ]
  },
  {
   "cell_type": "markdown",
   "metadata": {},
   "source": [
    "## End"
   ]
  },
  {
   "cell_type": "code",
   "execution_count": 89,
   "metadata": {},
   "outputs": [],
   "source": [
    "#sc.stop()"
   ]
  }
 ],
 "metadata": {
  "kernelspec": {
   "display_name": "Python 3",
   "language": "python",
   "name": "python3"
  },
  "language_info": {
   "codemirror_mode": {
    "name": "ipython",
    "version": 3
   },
   "file_extension": ".py",
   "mimetype": "text/x-python",
   "name": "python",
   "nbconvert_exporter": "python",
   "pygments_lexer": "ipython3",
   "version": "3.7.4"
  }
 },
 "nbformat": 4,
 "nbformat_minor": 2
}
